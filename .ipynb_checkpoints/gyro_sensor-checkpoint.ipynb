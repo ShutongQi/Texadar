{
 "cells": [
  {
   "cell_type": "code",
   "execution_count": null,
   "metadata": {},
   "outputs": [],
   "source": [
    "\n",
    "#read in data\n"
   ]
  },
  {
   "cell_type": "markdown",
   "metadata": {},
   "source": []
  },
  {
   "cell_type": "code",
   "execution_count": null,
   "metadata": {},
   "outputs": [],
   "source": []
  },
  {
   "cell_type": "markdown",
   "metadata": {},
   "source": [
    "## rotation"
   ]
  },
  {
   "cell_type": "code",
   "execution_count": 4,
   "metadata": {},
   "outputs": [
    {
     "name": "stdout",
     "output_type": "stream",
     "text": [
      "5\n",
      "10\n",
      "15\n",
      "20\n"
     ]
    }
   ],
   "source": [
    "import numpy as np\n",
    "import io\n",
    "import matplotlib.pyplot as plt\n",
    "PATH = \"E:/LION/HyperSight/data/rotation_gyro/\"\n",
    "\n",
    "error_5 = []\n",
    "error_10 = []\n",
    "error_15 = []\n",
    "error_20 = []\n",
    "error_list = [error_5,error_10,error_15,error_20]\n",
    "degree_list = [5,10,15,20]\n",
    "result_list = []\n",
    "for degree in range(4):\n",
    "    curr_degree = degree_list[degree]\n",
    "    print(curr_degree)\n",
    "    for name in range(10):\n",
    "        data = []\n",
    "        with open(PATH+str(curr_degree)+\"/\"+str(name)+\".txt\",\"r\") as file:\n",
    "            for line in file:\n",
    "                if line == '\\n':continue\n",
    "                temp = line.lstrip().replace('\\t',' ').split()\n",
    "                for _ in [float(i) for i in temp]:\n",
    "                    data.append(_)\n",
    "        data= np.array(data)\n",
    "        data = data.reshape(-1,6)\n",
    "    # idx=0\n",
    "    # for i in data:\n",
    "    #     if(i[2]==6):\n",
    "    #         idx+=1\n",
    "    # print(idx)\n",
    "        data = data[:,5]\n",
    "        res = 0.0\n",
    "#         plt.figure()\n",
    "#         plt.plot(data)\n",
    "        w = []# integrated degree list\n",
    "        temp = 0\n",
    "        for a in data:\n",
    "            temp += a/199\n",
    "            w.append(temp)\n",
    "#         plt.plot(w)\n",
    "#         plt.show()\n",
    "        \n",
    "        res = temp*180/np.pi\n",
    "        result_list.append(np.abs(res))\n",
    "        error_list[degree].append(curr_degree-np.abs(res))"
   ]
  },
  {
   "cell_type": "code",
   "execution_count": 141,
   "metadata": {},
   "outputs": [
    {
     "name": "stdout",
     "output_type": "stream",
     "text": [
      "[-0.9257364749826742, -1.160689502061385, -0.9244096938052087, -1.0066696275276925, -0.683973873300709, 1.100983689537482, 0.7396709182228811, 0.9227568061803, 0.8905188601095269, 0.9660131231994873]\n",
      "[-0.6018374565978757, -0.8779468070425906, 0.8373420105105893, 0.9172910164843877, -0.655189571062051, -0.8160102053440781, 0.8038212313422406, 1.0785246939103175, -0.9724903590088942, -0.7125307431708681]\n",
      "[-0.6099128348863676, -0.9512712865220685, 1.0373854473191582, 1.194946340523213, -0.42389230337086836, -1.091179935223611, 0.8255235595244521, 1.0120185471402916, -0.5219855862194969, -0.5833422353446984]\n",
      "[-0.39698828715113876, 1.040170293176061, -0.6033058407566507, 1.3464439135735198, -0.5980163395664064, 1.3050942848140004, -0.4075585344486079, 1.3244247711550514, -0.3431441545377112, 1.583479337302954]\n"
     ]
    }
   ],
   "source": [
    "for i in range(4):\n",
    "    print(error_list[i])"
   ]
  },
  {
   "cell_type": "code",
   "execution_count": 164,
   "metadata": {},
   "outputs": [
    {
     "data": {
      "image/png": "[encoded data removed]",
      "text/plain": [
       "<Figure size 432x288 with 4 Axes>"
      ]
     },
     "metadata": {
      "needs_background": "light"
     },
     "output_type": "display_data"
    }
   ],
   "source": [
    "\n",
    "\n",
    "x = np.arange(10)\n",
    "fig = plt.figure()\n",
    "\n",
    "for i in range(4):\n",
    "    \n",
    "    ax1=plt.subplot(2, 2, i+1)\n",
    "    plt.errorbar(x, result_list[i*10:10+i*10], yerr=error_list[i], label='both limits (default)')"
   ]
  },
  {
   "cell_type": "code",
   "execution_count": 158,
   "metadata": {},
   "outputs": [
    {
     "data": {
      "text/plain": [
       "10"
      ]
     },
     "execution_count": 158,
     "metadata": {},
     "output_type": "execute_result"
    }
   ],
   "source": [
    "len(result_list[0:10])"
   ]
  },
  {
   "cell_type": "code",
   "execution_count": 7,
   "metadata": {},
   "outputs": [
    {
     "data": {
      "text/plain": [
       "{'whiskers': [<matplotlib.lines.Line2D at 0x22e99f2be80>,\n",
       "  <matplotlib.lines.Line2D at 0x22e99f364a8>,\n",
       "  <matplotlib.lines.Line2D at 0x22e99f42898>,\n",
       "  <matplotlib.lines.Line2D at 0x22e99f42be0>,\n",
       "  <matplotlib.lines.Line2D at 0x22e99f49fd0>,\n",
       "  <matplotlib.lines.Line2D at 0x22e99f53358>,\n",
       "  <matplotlib.lines.Line2D at 0x22e99f5f748>,\n",
       "  <matplotlib.lines.Line2D at 0x22e99f5fa90>],\n",
       " 'caps': [<matplotlib.lines.Line2D at 0x22e99f367f0>,\n",
       "  <matplotlib.lines.Line2D at 0x22e99f36b38>,\n",
       "  <matplotlib.lines.Line2D at 0x22e99f42f28>,\n",
       "  <matplotlib.lines.Line2D at 0x22e99f492b0>,\n",
       "  <matplotlib.lines.Line2D at 0x22e99f536a0>,\n",
       "  <matplotlib.lines.Line2D at 0x22e99f539e8>,\n",
       "  <matplotlib.lines.Line2D at 0x22e99f5fdd8>,\n",
       "  <matplotlib.lines.Line2D at 0x22e99f5feb8>],\n",
       " 'boxes': [<matplotlib.lines.Line2D at 0x22e99f2bd30>,\n",
       "  <matplotlib.lines.Line2D at 0x22e99f42550>,\n",
       "  <matplotlib.lines.Line2D at 0x22e99f49c88>,\n",
       "  <matplotlib.lines.Line2D at 0x22e99f5f400>],\n",
       " 'medians': [<matplotlib.lines.Line2D at 0x22e99f36e80>,\n",
       "  <matplotlib.lines.Line2D at 0x22e99f495f8>,\n",
       "  <matplotlib.lines.Line2D at 0x22e99f53d30>,\n",
       "  <matplotlib.lines.Line2D at 0x22e99f694a8>],\n",
       " 'fliers': [<matplotlib.lines.Line2D at 0x22e99f36f60>,\n",
       "  <matplotlib.lines.Line2D at 0x22e99f49940>,\n",
       "  <matplotlib.lines.Line2D at 0x22e99f53e10>,\n",
       "  <matplotlib.lines.Line2D at 0x22e99f697f0>],\n",
       " 'means': []}"
      ]
     },
     "execution_count": 7,
     "metadata": {},
     "output_type": "execute_result"
    },
    {
     "data": {
      "image/png": "[encoded data removed]",
      "text/plain": [
       "<Figure size 432x288 with 1 Axes>"
      ]
     },
     "metadata": {
      "needs_background": "light"
     },
     "output_type": "display_data"
    }
   ],
   "source": [
    "fig1, ax1 = plt.subplots()\n",
    "ax1.set_title('Basic Plot')\n",
    "ax1.boxplot([error_list[0],error_list[1],error_list[2],error_list[3]],labels=[5,10,15,20])"
   ]
  },
  {
   "cell_type": "code",
   "execution_count": null,
   "metadata": {},
   "outputs": [],
   "source": []
  }
 ],
 "metadata": {
  "kernelspec": {
   "display_name": "Python 3",
   "language": "python",
   "name": "python3"
  },
  "language_info": {
   "codemirror_mode": {
    "name": "ipython",
    "version": 3
   },
   "file_extension": ".py",
   "mimetype": "text/x-python",
   "name": "python",
   "nbconvert_exporter": "python",
   "pygments_lexer": "ipython3",
   "version": "3.7.3"
  }
 },
 "nbformat": 4,
 "nbformat_minor": 2
}
