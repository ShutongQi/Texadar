{
 "cells": [
  {
   "cell_type": "code",
   "execution_count": 1,
   "metadata": {},
   "outputs": [],
   "source": [
    "from __future__ import absolute_import, division\n",
    "from tsfresh.feature_extraction import extract_features, EfficientFCParameters\n",
    "import numpy as np\n",
    "import matplotlib.pyplot as plt\n",
    "import matplotlib.animation as animation\n",
    "import sys,os\n",
    "import pandas as pd\n",
    "from seglearn.transform import SegmentX\n",
    "from seglearn.feature_functions import maximum,minimum\n",
    "from sklearn.preprocessing import normalize,MinMaxScaler\n",
    "from sklearn.model_selection import train_test_split\n",
    "from sklearn.ensemble import RandomForestClassifier\n",
    "from sklearn.decomposition import PCA\n",
    "from sklearn import svm\n",
    "from scipy import signal\n",
    "\n",
    "\n"
   ]
  },
  {
   "cell_type": "code",
   "execution_count": 71,
   "metadata": {},
   "outputs": [
    {
     "name": "stdout",
     "output_type": "stream",
     "text": [
      "cjc\n",
      "gbs\n",
      "lhy\n",
      "ljh\n",
      "lyz\n",
      "zsy\n",
      "zzy\n",
      "sb\n",
      "wdy\n",
      "zdy\n"
     ]
    }
   ],
   "source": [
    "# names = [\"cjc\", \"qst\", \"smj\"]\n",
    "# PATH = 'output_old/'\n",
    "PATH = '/home/cjc/Documents/2019Summer/Texadar/data/userStudy0903/'\n",
    "names=['cjc','gbs','lhy','ljh','lyz','zsy','zzy','sb','wdy','zdy']\n",
    "gesture=['button','check','circle','double_tap','fast_swipe','finger_rub',\n",
    "         'finger_slide','hold','slow_swipe','pull','push','rect','round',\n",
    "         'single_tap']\n",
    "\n",
    "x=[]\n",
    "y=[]\n",
    "X=[]\n",
    "\n",
    "flag = 0\n",
    "data_size = 4200\n",
    "data_len = 4200\n",
    "for i in range(4200):\n",
    "    x.append([])\n",
    "##-------extract--------\n",
    "maxlen=0\n",
    "for name_idx in range(10):#len(names)\n",
    "    print(names[name_idx])\n",
    "    for gest_idx in range(len(gesture)):\n",
    "        for i in range(1,31):\n",
    "            curr_file = PATH + names[name_idx] + '_' + gesture[gest_idx] + '_'+str(i) +'.txt'\n",
    "            data = []\n",
    "            with open(curr_file,'r') as file:\n",
    "                data = np.loadtxt(file,delimiter=',')\n",
    "           \n",
    "            data = data.reshape(1,-1)[0]\n",
    "            data = data[152:]\n",
    "            b, a = signal.butter(8, 0.20, 'lowpass')#0.2 -> 100Hz\n",
    "            sig = signal.filtfilt(b, a, data)#data为要过滤的信号\n",
    "            b, a = signal.butter(8, 0.20, 'highpass')\n",
    "            noise = signal.filtfilt(b, a, data)\n",
    "    \n",
    "            x[name_idx*420+gest_idx*30+i-1]=sig[:]"
   ]
  },
  {
   "cell_type": "code",
   "execution_count": 72,
   "metadata": {
    "scrolled": false
   },
   "outputs": [
    {
     "name": "stdout",
     "output_type": "stream",
     "text": [
      "4200\n"
     ]
    },
    {
     "data": {
      "text/plain": [
       "4200"
      ]
     },
     "execution_count": 72,
     "metadata": {},
     "output_type": "execute_result"
    }
   ],
   "source": [
    "y = []\n",
    "for i in range(10):\n",
    "    for j in range(14):\n",
    "        for z in range(30):\n",
    "            y.append(j)\n",
    "print(len(y))\n",
    "t = []\n",
    "for j in range(data_len):\n",
    "    t.append(j)\n",
    "len(t)"
   ]
  },
  {
   "cell_type": "code",
   "execution_count": 73,
   "metadata": {},
   "outputs": [],
   "source": [
    "for i in range(4200):\n",
    "    if(len(x[i])!=4200):\n",
    "        print(i)\n",
    "# curr_file = PATH +'lyz_double_tap_11.txt'\n",
    "# data = []\n",
    "# with open(curr_file,'r') as file:\n",
    "#     data = np.loadtxt(file,delimiter=',')\n",
    "# data = data.reshape(1,-1)[0]\n",
    "\n",
    "# print(len(data))"
   ]
  },
  {
   "cell_type": "code",
   "execution_count": 59,
   "metadata": {},
   "outputs": [
    {
     "data": {
      "text/plain": [
       "[<matplotlib.lines.Line2D at 0x7fa3c1d14da0>]"
      ]
     },
     "execution_count": 59,
     "metadata": {},
     "output_type": "execute_result"
    },
    {
     "data": {
      "image/png": "[encoded data removed]",
      "text/plain": [
       "<Figure size 432x288 with 1 Axes>"
      ]
     },
     "metadata": {
      "needs_background": "light"
     },
     "output_type": "display_data"
    }
   ],
   "source": [
    "plt.plot(x[3431-2])"
   ]
  },
  {
   "cell_type": "code",
   "execution_count": null,
   "metadata": {},
   "outputs": [],
   "source": [
    "from tsfresh import extract_features\n",
    "for i in range(data_size):\n",
    "    temp = np.array(x[i]).reshape(-1,1)\n",
    "    tempt = np.array(t).reshape(-1,1)\n",
    "#     print(temp.shape,tempt.shape)\n",
    "    res = np.append(tempt,temp,axis=1)\n",
    "#     print(res.shape)\n",
    "    tempdf = pd.DataFrame(data=res,\n",
    "                index=[j for j in range(len(t)*i,len(t)*i+len(t))],\n",
    "                columns=['time','v'])\n",
    "    tempdf.insert(0, 'id',[i]*len(t))\n",
    "#     print(tempdf)\n",
    "    if(i==0):\n",
    "        X = tempdf\n",
    "    else:\n",
    "        X = X.append(tempdf)"
   ]
  },
  {
   "cell_type": "code",
   "execution_count": null,
   "metadata": {},
   "outputs": [],
   "source": [
    "from tsfresh.feature_extraction import extract_features, EfficientFCParameters\n",
    "extracted_features = extract_features(X, column_id='id', column_sort='time', default_fc_parameters=EfficientFCParameters())"
   ]
  },
  {
   "cell_type": "code",
   "execution_count": null,
   "metadata": {},
   "outputs": [],
   "source": [
    "extracted_features.to_csv(\"/home/cjc/Documents/2019Summer/Texadar/data/final.csv\")"
   ]
  },
  {
   "cell_type": "code",
   "execution_count": null,
   "metadata": {},
   "outputs": [],
   "source": [
    "y =  np.array(y)"
   ]
  },
  {
   "cell_type": "code",
   "execution_count": null,
   "metadata": {},
   "outputs": [],
   "source": [
    "from tsfresh import select_features\n",
    "from tsfresh.utilities.dataframe_functions import impute\n",
    "impute(extracted_features)\n",
    "features_filtered = select_features(extracted_features, y)"
   ]
  },
  {
   "cell_type": "code",
   "execution_count": null,
   "metadata": {},
   "outputs": [],
   "source": [
    "features_filtered.to_csv(\"/home/cjc/Documents/2019Summer/Texadar/data/final.csv\")"
   ]
  }
 ],
 "metadata": {
  "kernelspec": {
   "display_name": "Python 3",
   "language": "python",
   "name": "python3"
  },
  "language_info": {
   "codemirror_mode": {
    "name": "ipython",
    "version": 3
   },
   "file_extension": ".py",
   "mimetype": "text/x-python",
   "name": "python",
   "nbconvert_exporter": "python",
   "pygments_lexer": "ipython3",
   "version": "3.7.3"
  }
 },
 "nbformat": 4,
 "nbformat_minor": 2
}
