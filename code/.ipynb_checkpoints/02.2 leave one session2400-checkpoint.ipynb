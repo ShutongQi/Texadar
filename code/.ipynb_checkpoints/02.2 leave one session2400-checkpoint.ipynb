{
 "cells": [
  {
   "cell_type": "code",
   "execution_count": null,
   "metadata": {},
   "outputs": [],
   "source": []
  },
  {
   "cell_type": "code",
   "execution_count": 10,
   "metadata": {},
   "outputs": [],
   "source": [
    "#-----01 within user----------\n",
    "import numpy as np\n",
    "import pandas as pd\n",
    "import matplotlib.pyplot as plt\n",
    "import matplotlib.animation as animation\n",
    "import sys,os\n",
    "from seglearn.transform import SegmentX\n",
    "from seglearn.feature_functions import maximum,minimum\n",
    "from sklearn.preprocessing import normalize,MinMaxScaler\n",
    "from sklearn.model_selection import train_test_split\n",
    "from sklearn.ensemble import RandomForestClassifier\n",
    "from sklearn.decomposition import PCA\n",
    "from sklearn import svm\n",
    "from sklearn.metrics import confusion_matrix\n",
    "from sklearn.utils.multiclass import unique_labels\n",
    "from sklearn.model_selection import StratifiedKFold\n",
    "import time\n"
   ]
  },
  {
   "cell_type": "code",
   "execution_count": 11,
   "metadata": {},
   "outputs": [
    {
     "name": "stdout",
     "output_type": "stream",
     "text": [
      "330\n",
      "(3300, 436)\n"
     ]
    }
   ],
   "source": [
    "# --------starts here-------\n",
    "skip_list = [3,8]\n",
    "#label\n",
    "y=[]\n",
    "# for k in range(10):#num of participants\n",
    "\n",
    "for i in range(14):\n",
    "    if i in skip_list:\n",
    "        continue\n",
    "    for j in range(30):\n",
    "        y.append(i)\n",
    "# print(y)\n",
    "y_test = []\n",
    "y_train = []\n",
    "for i in range(14):\n",
    "    if i in skip_list:\n",
    "        continue\n",
    "    for j in range(20):\n",
    "        y_train.append(i)\n",
    "    for j in range(10):\n",
    "        y_test.append(i)\n",
    "\n",
    "\n",
    "print(len(y))\n",
    "skip_len = len(y)\n",
    "\n",
    "tsfresh_feature = pd.read_csv(\"E:/XingDong/Texadar/data/final_filtered2400.csv\")\n",
    "tsfresh_feature = tsfresh_feature.drop([\"id\"],axis=1)\n",
    "\n",
    "selected_list = []\n",
    "for i in range(10):\n",
    "    for j in range(14):\n",
    "        if(j in skip_list):continue\n",
    "        for k in range(30):\n",
    "            selected_list.append(i*420+j*30+k)\n",
    "# print(selected_list)\n",
    "\n",
    "# print(tsfresh_feature.iloc[selected_list])\n",
    "tsfresh_feature = tsfresh_feature.iloc[selected_list]\n",
    "print(tsfresh_feature.shape)"
   ]
  },
  {
   "cell_type": "code",
   "execution_count": 4,
   "metadata": {},
   "outputs": [
    {
     "name": "stdout",
     "output_type": "stream",
     "text": [
      "[0, 0, 0, 0, 0, 0, 0, 0, 0, 0, 0, 0, 0, 0, 0, 0, 0, 0, 0, 0, 1, 1, 1, 1, 1, 1, 1, 1, 1, 1, 1, 1, 1, 1, 1, 1, 1, 1, 1, 1, 4, 4, 4, 4, 4, 4, 4, 4, 4, 4, 4, 4, 4, 4, 4, 4, 4, 4, 4, 4, 5, 5, 5, 5, 5, 5, 5, 5, 5, 5, 5, 5, 5, 5, 5, 5, 5, 5, 5, 5, 6, 6, 6, 6, 6, 6, 6, 6, 6, 6, 6, 6, 6, 6, 6, 6, 6, 6, 6, 6, 7, 7, 7, 7, 7, 7, 7, 7, 7, 7, 7, 7, 7, 7, 7, 7, 7, 7, 7, 7, 9, 9, 9, 9, 9, 9, 9, 9, 9, 9, 9, 9, 9, 9, 9, 9, 9, 9, 9, 9, 10, 10, 10, 10, 10, 10, 10, 10, 10, 10, 10, 10, 10, 10, 10, 10, 10, 10, 10, 10, 11, 11, 11, 11, 11, 11, 11, 11, 11, 11, 11, 11, 11, 11, 11, 11, 11, 11, 11, 11, 12, 12, 12, 12, 12, 12, 12, 12, 12, 12, 12, 12, 12, 12, 12, 12, 12, 12, 12, 12, 13, 13, 13, 13, 13, 13, 13, 13, 13, 13, 13, 13, 13, 13, 13, 13, 13, 13, 13, 13] [0, 0, 0, 0, 0, 0, 0, 0, 0, 0, 1, 1, 1, 1, 1, 1, 1, 1, 1, 1, 4, 4, 4, 4, 4, 4, 4, 4, 4, 4, 5, 5, 5, 5, 5, 5, 5, 5, 5, 5, 6, 6, 6, 6, 6, 6, 6, 6, 6, 6, 7, 7, 7, 7, 7, 7, 7, 7, 7, 7, 9, 9, 9, 9, 9, 9, 9, 9, 9, 9, 10, 10, 10, 10, 10, 10, 10, 10, 10, 10, 11, 11, 11, 11, 11, 11, 11, 11, 11, 11, 12, 12, 12, 12, 12, 12, 12, 12, 12, 12, 13, 13, 13, 13, 13, 13, 13, 13, 13, 13]\n"
     ]
    }
   ],
   "source": [
    "print((y_train),(y_test))\n"
   ]
  },
  {
   "cell_type": "code",
   "execution_count": null,
   "metadata": {
    "scrolled": true
   },
   "outputs": [],
   "source": [
    "tsfresh_feature"
   ]
  },
  {
   "cell_type": "code",
   "execution_count": null,
   "metadata": {},
   "outputs": [],
   "source": [
    "\n",
    "import pickle\n",
    "\n",
    "# define a list of places\n",
    "cjc_feature_list = list(tsfresh_feature.columns)\n",
    "\n",
    "with open('cjc_feature_list.data', 'wb') as filehandle:\n",
    "    # store the data as binary data stream\n",
    "    pickle.dump(cjc_feature_list, filehandle)"
   ]
  },
  {
   "cell_type": "code",
   "execution_count": 12,
   "metadata": {},
   "outputs": [
    {
     "name": "stdout",
     "output_type": "stream",
     "text": [
      "(4200, 100)\n",
      "(3300, 100)\n"
     ]
    },
    {
     "data": {
      "text/plain": [
       "(3300, 536)"
      ]
     },
     "execution_count": 12,
     "metadata": {},
     "output_type": "execute_result"
    }
   ],
   "source": [
    "#------ adding features from Shutong ------#\n",
    "# fftfeatures1 = np.loadtxt(fname = \"data/22gesture.txt\",delimiter=',')\n",
    "# fftfeatures = np.loadtxt(fname = \"data/qstSpectro.txt\",delimiter=',')\n",
    "# fftfeatures = np.concatenate((fftfeatures1,fftfeatures2),axis=0)\n",
    "fftfeatures = np.loadtxt(fname = \"E:/XingDong/Texadar/data/fftFeature4200(1).txt\",delimiter=',')\n",
    "print(fftfeatures.shape)\n",
    "_len = len(fftfeatures[:][0])\n",
    "fft_df = pd.DataFrame(data=fftfeatures[:],    # values\n",
    "              index=[i for i in range(4200)],    # 1st column as index\n",
    "              columns=[\"f\"+str(i) for i in range(_len)])\n",
    "\n",
    "fft_df = fft_df.iloc[selected_list]\n",
    "print(fft_df.shape)\n",
    "features_combine = fft_df.join(tsfresh_feature)\n",
    "features_combine.shape"
   ]
  },
  {
   "cell_type": "code",
   "execution_count": 13,
   "metadata": {},
   "outputs": [
    {
     "name": "stdout",
     "output_type": "stream",
     "text": [
      "24.146275997161865\n",
      "[0.9363636363636364, 0, 0, 0, 0, 0, 0, 0, 0, 0]\n",
      "24.26158833503723\n",
      "[0.9363636363636364, 0.7181818181818181, 0, 0, 0, 0, 0, 0, 0, 0]\n",
      "23.2385413646698\n",
      "[0.9363636363636364, 0.7181818181818181, 0.8727272727272727, 0, 0, 0, 0, 0, 0, 0]\n",
      "24.50404381752014\n",
      "[0.9363636363636364, 0.7181818181818181, 0.8727272727272727, 0.9, 0, 0, 0, 0, 0, 0]\n",
      "22.71318221092224\n",
      "[0.9363636363636364, 0.7181818181818181, 0.8727272727272727, 0.9, 0.7272727272727273, 0, 0, 0, 0, 0]\n",
      "25.53163456916809\n",
      "[0.9363636363636364, 0.7181818181818181, 0.8727272727272727, 0.9, 0.7272727272727273, 0.7818181818181819, 0, 0, 0, 0]\n",
      "24.05022430419922\n",
      "[0.9363636363636364, 0.7181818181818181, 0.8727272727272727, 0.9, 0.7272727272727273, 0.7818181818181819, 0.5909090909090909, 0, 0, 0]\n",
      "28.06086254119873\n",
      "[0.9363636363636364, 0.7181818181818181, 0.8727272727272727, 0.9, 0.7272727272727273, 0.7818181818181819, 0.5909090909090909, 0.8272727272727273, 0, 0]\n",
      "31.59613013267517\n",
      "[0.9363636363636364, 0.7181818181818181, 0.8727272727272727, 0.9, 0.7272727272727273, 0.7818181818181819, 0.5909090909090909, 0.8272727272727273, 0.7272727272727273, 0]\n",
      "33.46507692337036\n",
      "[0.9363636363636364, 0.7181818181818181, 0.8727272727272727, 0.9, 0.7272727272727273, 0.7818181818181819, 0.5909090909090909, 0.8272727272727273, 0.7272727272727273, 0.9363636363636364]\n",
      "[1.0, 1.0, 1.0, 1.0, 1.0, 1.0, 1.0, 1.0, 1.0, 1.0]\n",
      "[0.9363636363636364, 0.7181818181818181, 0.8727272727272727, 0.9, 0.7272727272727273, 0.7818181818181819, 0.5909090909090909, 0.8272727272727273, 0.7272727272727273, 0.9363636363636364]\n"
     ]
    }
   ],
   "source": [
    "y = y\n",
    "maxyhat_train=[0,0,0,0,0,0,0,0,0,0]\n",
    "maxyhat_test=[0,0,0,0,0,0,0,0,0,0]\n",
    "temp = 0\n",
    "feature_list = []\n",
    "train_results = [[],[],[],[],[],[],[],[],[],[]]\n",
    "test_results = [[],[],[],[],[],[],[],[],[],[]]\n",
    "# for i in range(10,20):\n",
    "seconds = time.time()\n",
    "for people in range(10):\n",
    "    #get each user\n",
    "    X = features_combine[people*skip_len:(people+1)*skip_len]\n",
    "    x_train=X[0:20]\n",
    "#     print(x_train)\n",
    "    x_test=X[20:30]\n",
    "    for gest in range(1,14-len(skip_list)):\n",
    "        x_train = pd.concat([x_train,X[gest*30+0:gest*30+20]])\n",
    "        x_test =  pd.concat([x_test,X[gest*30+20:gest*30+30]])\n",
    "#     for i in range(10,20):\n",
    "    for j in range(0,100):\n",
    "#             x_train, x_test, y_train, y_test = train_test_split(X, y, random_state=i, train_size=0.5, test_size=0.5)\n",
    "        clf = RandomForestClassifier(n_estimators=100, max_depth=30, random_state=j)\n",
    "        clf.fit(x_train, y_train)\n",
    "        temp = clf.score(x_train, y_train)\n",
    "        train_results[people].append(temp)\n",
    "        if (temp > maxyhat_train[people]).any():\n",
    "            maxyhat_train[people] = temp\n",
    "        temp = clf.score(x_test, y_test)\n",
    "        test_results[people].append(temp)\n",
    "        feature_importances = pd.DataFrame(clf.feature_importances_,\n",
    "                               index = x_train.columns,\n",
    "                                columns=['importance']).sort_values('importance',ascending=False).sort_values('importance',ascending=False)\n",
    "        if (maxyhat_test[people] < temp).any():\n",
    "            maxyhat_test[people] = temp\n",
    "            for feature in feature_importances.index.tolist()[:50]:\n",
    "                if not feature in feature_list:\n",
    "                    feature_list.append(feature)\n",
    "    seconds = time.time()-seconds\n",
    "    print(seconds)\n",
    "    seconds = time.time()\n",
    "    print(maxyhat_test)\n",
    "print(maxyhat_train)\n",
    "print(maxyhat_test)"
   ]
  },
  {
   "cell_type": "code",
   "execution_count": 9,
   "metadata": {},
   "outputs": [
    {
     "name": "stdout",
     "output_type": "stream",
     "text": [
      "[0.8636363636363636, 0.6727272727272727, 0.9, 0.9272727272727272, 0.7090909090909091, 0.6818181818181818, 0.5909090909090909, 0.7818181818181819, 0.6818181818181818, 0.9454545454545454]\n"
     ]
    },
    {
     "data": {
      "text/plain": [
       "0.7754545454545454"
      ]
     },
     "execution_count": 9,
     "metadata": {},
     "output_type": "execute_result"
    }
   ],
   "source": [
    "mylist = []\n",
    "for i in range(10):\n",
    "    mylist.append(np.max(test_results[i]))\n",
    "print(mylist)\n",
    "np.mean(mylist)\n"
   ]
  },
  {
   "cell_type": "code",
   "execution_count": null,
   "metadata": {},
   "outputs": [],
   "source": [
    "print(len(feature_list))\n",
    "(feature_list)\n",
    "# import pickle\n",
    "\n",
    "\n",
    "# with open('feature_list.data', 'wb') as filehandle:\n",
    "#     # store the data as binary data stream\n",
    "#     pickle.dump(feature_list, filehandle)"
   ]
  },
  {
   "cell_type": "code",
   "execution_count": null,
   "metadata": {},
   "outputs": [],
   "source": [
    "y = y\n",
    "maxyhat_train=[0,0,0,0,0,0,0,0,0,0]\n",
    "maxyhat_test=[0,0,0,0,0,0,0,0,0,0]\n",
    "temp = 0\n",
    "train_results = [[],[],[],[],[],[],[],[],[],[]]\n",
    "test_results = [[],[],[],[],[],[],[],[],[],[]]\n",
    "# for i in range(10,20):\n",
    "seconds = time.time()\n",
    "for people in range(10):\n",
    "    #get each user\n",
    "    X = features_combine[people*420:(people+1)*420]\n",
    "    for i in range(10,20):\n",
    "        for j in range(10,20):\n",
    "            x_train, x_test, y_train, y_test = train_test_split(X[feature_list], y, random_state=i, train_size=0.5, test_size=0.5)\n",
    "            \n",
    "            clf = RandomForestClassifier(n_estimators=100, max_depth=30, random_state=j)\n",
    "            clf.fit(x_train, y_train)\n",
    "            temp = clf.score(x_train, y_train)\n",
    "            train_results[people].append(temp)\n",
    "            if (temp > maxyhat_train[people]).any():\n",
    "                maxyhat_train[people] = temp\n",
    "            temp = clf.score(x_test, y_test)\n",
    "            test_results[people].append(temp)\n",
    "            feature_importances = pd.DataFrame(clf.feature_importances_,\n",
    "                                   index = x_train.columns,\n",
    "                                    columns=['importance']).sort_values('importance',ascending=False).sort_values('importance',ascending=False)\n",
    "            if (maxyhat_test[people] < temp).any():\n",
    "                maxyhat_test[people] = temp\n",
    "              \n",
    "    seconds = time.time()-seconds\n",
    "    print(seconds)\n",
    "    seconds = time.time()\n",
    "print(maxyhat_train)\n",
    "print(maxyhat_test)"
   ]
  },
  {
   "cell_type": "code",
   "execution_count": null,
   "metadata": {},
   "outputs": [],
   "source": [
    "mylist = []\n",
    "for i in range(10):\n",
    "    mylist.append(np.max(test_results[i]))\n",
    "print(mylist)\n",
    "np.mean(mylist)\n"
   ]
  },
  {
   "cell_type": "code",
   "execution_count": null,
   "metadata": {},
   "outputs": [],
   "source": [
    "from matplotlib.legend_handler import HandlerLine2D\n",
    "line1, = plt.plot(np.arange(100), train_results,'b', label='Train AUC')\n",
    "line2, = plt.plot(np.arange(100), test_results,'r', label='Test AUC')\n",
    "plt.legend(handler_map={line1: HandlerLine2D(numpoints=2)})\n",
    "plt.ylabel('AUC score')\n",
    "plt.xlabel('n_estimators')\n",
    "plt.show()"
   ]
  },
  {
   "cell_type": "code",
   "execution_count": null,
   "metadata": {},
   "outputs": [],
   "source": [
    "np.argmax([0,1,2,3,4,5,6])"
   ]
  },
  {
   "cell_type": "code",
   "execution_count": null,
   "metadata": {},
   "outputs": [],
   "source": [
    "y_max=[]\n",
    "for i in range(10):\n",
    "    y_max.append(np.argmax(test_results[i]))"
   ]
  },
  {
   "cell_type": "code",
   "execution_count": null,
   "metadata": {},
   "outputs": [],
   "source": [
    "test_results[0][18]"
   ]
  },
  {
   "cell_type": "code",
   "execution_count": null,
   "metadata": {},
   "outputs": [],
   "source": []
  },
  {
   "cell_type": "code",
   "execution_count": null,
   "metadata": {
    "scrolled": false
   },
   "outputs": [],
   "source": [
    "#------ using ranked features ----------#\n",
    "bestmodel = 0\n",
    "maxyhat_test=0\n",
    "\n",
    "fig = None\n",
    "def plot_confusion_matrix(y_true, y_pred, classes,\n",
    "                          normalize=False,\n",
    "                          title=None,\n",
    "                          cmap=plt.cm.Blues):\n",
    "    global fig\n",
    "    \"\"\"\n",
    "    This function prints and plots the confusion matrix.\n",
    "    Normalization can be applied by setting `normalize=True`.\n",
    "    \"\"\"\n",
    "    if not title:\n",
    "        if normalize:\n",
    "            title = 'Normalized confusion matrix'\n",
    "        else:\n",
    "            title = 'Confusion matrix, without normalization'\n",
    "\n",
    "    # Compute confusion matrix\n",
    "    cm = confusion_matrix(y_true, y_pred)\n",
    "    # Only use the labels that appear in the data\n",
    "    classes = classes[unique_labels(y_true, y_pred)]\n",
    "    if normalize:\n",
    "        cm = cm.astype('float') / cm.sum(axis=1)[:, np.newaxis]\n",
    "        print(\"Normalized confusion matrix\")\n",
    "    else:\n",
    "        print('Confusion matrix, without normalization')\n",
    "\n",
    "#     print(cm)\n",
    "    plt.rcParams.update({'font.size': 14})\n",
    "    plt.rc('ytick', labelsize=20)\n",
    "    plt.rc('xtick', labelsize=20)\n",
    "    plt.rc('axes', labelsize=26)\n",
    "\n",
    "    fig, ax = plt.subplots(figsize=(15,15))\n",
    "    \n",
    "    im = ax.imshow(cm, interpolation='nearest', cmap=cmap)\n",
    "    ax.figure.colorbar(im, ax=ax)\n",
    "    # We want to show all ticks...\n",
    "    ax.set(xticks=np.arange(cm.shape[1]),\n",
    "           yticks=np.arange(cm.shape[0]),\n",
    "           # ... and label them with the respective list entries\n",
    "           xticklabels=classes, yticklabels=classes,\n",
    "           title=title,\n",
    "           ylabel='True label',\n",
    "           xlabel='Predicted label')\n",
    "\n",
    "    # Rotate the tick labels and set their alignment.\n",
    "    plt.setp(ax.get_xticklabels(), rotation=45, ha=\"right\",\n",
    "             rotation_mode=\"anchor\")\n",
    "\n",
    "    # Loop over data dimensions and create text annotations.\n",
    "    fmt = '.2f' if normalize else 'd'\n",
    "    thresh = cm.max() / 2.\n",
    "    for i in range(cm.shape[0]):\n",
    "        for j in range(cm.shape[1]):\n",
    "            ax.text(j, i, format(cm[i, j], fmt),\n",
    "                    ha=\"center\", va=\"center\",\n",
    "                    color=\"white\" if cm[i, j] > thresh else \"black\")\n",
    "    fig.tight_layout()\n",
    "    return ax\n",
    "\n",
    "v2_names=['button','check','circle','double_tap','fast_swipe','finger_rub',\n",
    "         'finger_slide','hold','slow_swipe','pull','push','rect','round',\n",
    "         'single_tap']\n",
    "\n",
    "v2_names = np.array(v2_names)\n",
    "y_pred = []\n",
    "y_test_ = []\n",
    "\n",
    "for people in range(10):\n",
    "    \n",
    "    #get each user\n",
    "    X = features_combine[people*420:(people+1)*420]\n",
    "    X = features_combine\n",
    "    x_train=X[0:20]\n",
    "#     print(x_train)\n",
    "    x_test=X[20:30]\n",
    "    for gest in range(1,14):\n",
    "        x_train = pd.concat([x_train,X[gest*30+0:gest*30+20]])\n",
    "        x_test =  pd.concat([x_test,X[gest*30+20:gest*30+30]])\n",
    "        \n",
    "    j=y_max[people]\n",
    "\n",
    "    clf = RandomForestClassifier(n_estimators=100, max_depth=30, random_state=j)\n",
    "    clf.fit(x_train, y_train)\n",
    "    print(clf.score(x_test,y_test))\n",
    "    y_pred = y_pred+list(clf.predict(x_test))\n",
    "    plot_confusion_matrix(y_test, list(clf.predict(x_test)), classes=v2_names, normalize=True,title='')\n",
    "#     print(list(clf.predict(x_test)))\n",
    "#     print(y_test)\n",
    "    y_test_ += y_test\n",
    "plot_confusion_matrix(y_test_, y_pred, classes=v2_names, normalize=True,\n",
    "          title='')\n",
    "plt.show()\n",
    "\n",
    "seconds = time.time()-seconds\n",
    "#     print(seconds)\n",
    "seconds = time.time()\n",
    "print(maxyhat_train)\n",
    "print(maxyhat_test)\n",
    "fig.savefig(\"4200_session.png\", bbox_inches = \"tight\")"
   ]
  },
  {
   "cell_type": "code",
   "execution_count": null,
   "metadata": {},
   "outputs": [],
   "source": [
    "from joblib import dump, load\n",
    "dump(clf, '4200.joblib')"
   ]
  },
  {
   "cell_type": "code",
   "execution_count": null,
   "metadata": {},
   "outputs": [],
   "source": [
    "clf2 = load('filename.joblib')"
   ]
  }
 ],
 "metadata": {
  "file_extension": ".py",
  "kernelspec": {
   "display_name": "Python 3",
   "language": "python",
   "name": "python3"
  },
  "language_info": {
   "codemirror_mode": {
    "name": "ipython",
    "version": 3
   },
   "file_extension": ".py",
   "mimetype": "text/x-python",
   "name": "python",
   "nbconvert_exporter": "python",
   "pygments_lexer": "ipython3",
   "version": "3.7.3"
  },
  "mimetype": "text/x-python",
  "name": "python",
  "npconvert_exporter": "python",
  "pygments_lexer": "ipython3",
  "version": 3
 },
 "nbformat": 4,
 "nbformat_minor": 2
}
