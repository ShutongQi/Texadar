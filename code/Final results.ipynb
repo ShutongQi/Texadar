{
 "cells": [
  {
   "cell_type": "code",
   "execution_count": 1,
   "metadata": {},
   "outputs": [],
   "source": [
    "from __future__ import absolute_import, division\n",
    "from tsfresh.feature_extraction import extract_features, EfficientFCParameters\n",
    "import numpy as np\n",
    "import matplotlib.pyplot as plt\n",
    "import matplotlib.animation as animation\n",
    "import sys,os\n",
    "import pandas as pd\n",
    "from seglearn.transform import SegmentX\n",
    "from seglearn.feature_functions import maximum,minimum\n",
    "from sklearn.preprocessing import normalize,MinMaxScaler\n",
    "from sklearn.model_selection import train_test_split\n",
    "from sklearn.ensemble import RandomForestClassifier\n",
    "from sklearn.decomposition import PCA\n",
    "from sklearn import svm\n",
    "from scipy import signal\n",
    "\n",
    "\n"
   ]
  },
  {
   "cell_type": "code",
   "execution_count": 2,
   "metadata": {},
   "outputs": [
    {
     "name": "stdout",
     "output_type": "stream",
     "text": [
      "cjc\n",
      "gbs\n",
      "lhy\n",
      "ljh\n",
      "lyz\n",
      "zsy\n",
      "zzy\n",
      "sb\n",
      "wdy\n",
      "zdy\n"
     ]
    }
   ],
   "source": [
    "# names = [\"cjc\", \"qst\", \"smj\"]\n",
    "# PATH = 'output_old/'\n",
    "# PATH = '/home/cjc/Documents/2019Summer/Texadar/data/userStudy0903/'\n",
    "# PATH = '/home/cjc/Documents/2019Summer/Texadar/data/output_userStudy0903processed/'\n",
    "PATH = '/home/cjc/Documents/2019Summer/Texadar/data/output_userStudy0903processed_without_rect_slowswipe/'\n",
    "names = ['cjc','gbs','lhy','ljh','lyz','zsy','zzy','sb','wdy','zdy']\n",
    "# gesture=['button','check','circle','double_tap','fast_swipe','finger_rub',\n",
    "#          'finger_slide','hold','slow_swipe','pull','push','rect','round',\n",
    "#          'single_tap']\n",
    "gesture=['button','check','circle','double_tap','fast_swipe','finger_rub',\n",
    "         'finger_slide','hold','pull','push','round',\n",
    "         'single_tap']\n",
    "x=[]\n",
    "y=[]\n",
    "X=[]\n",
    "\n",
    "flag = 0\n",
    "data_size = 3600\n",
    "data_len = 1000\n",
    "for i in range(3600):\n",
    "    x.append([])\n",
    "##-------extract--------\n",
    "maxlen=0\n",
    "for name_idx in range(10):#len(names)\n",
    "    print(names[name_idx])\n",
    "    for gest_idx in range(len(gesture)):\n",
    "        for i in range(1,31):\n",
    "            curr_file = PATH + names[name_idx] + '_' + gesture[gest_idx] + '_'+str(i) +'_filtered.txt'\n",
    "            data = []\n",
    "            with open(curr_file,'r') as file:\n",
    "                data = np.loadtxt(file,delimiter=',')\n",
    "           \n",
    "            data = data.reshape(1,-1)[0]\n",
    "#             print(data.shape)\n",
    "#             data = data[152:]\n",
    "#             b, a = signal.butter(8, 0.20, 'lowpass')#0.2 -> 100Hz\n",
    "#             sig = signal.filtfilt(b, a, data)#data为要过滤的信号\n",
    "#             b, a = signal.butter(8, 0.20, 'highpass')\n",
    "#             noise = signal.filtfilt(b, a, data)\n",
    "    \n",
    "            x[name_idx*360+gest_idx*30+i-1]=data"
   ]
  },
  {
   "cell_type": "code",
   "execution_count": 3,
   "metadata": {
    "scrolled": false
   },
   "outputs": [
    {
     "name": "stdout",
     "output_type": "stream",
     "text": [
      "3600\n",
      "1000\n"
     ]
    }
   ],
   "source": [
    "y = []\n",
    "for i in range(10):\n",
    "    for j in range(12):\n",
    "        for z in range(30):\n",
    "            y.append(j)\n",
    "print(len(y))\n",
    "t = []\n",
    "for j in range(data_len):\n",
    "    t.append(j)\n",
    "print(len(t))"
   ]
  },
  {
   "cell_type": "code",
   "execution_count": 4,
   "metadata": {},
   "outputs": [],
   "source": [
    "for i in range(3600):\n",
    "    if(len(x[i])!=1000):\n",
    "        print(i,len(x[i]))"
   ]
  },
  {
   "cell_type": "code",
   "execution_count": null,
   "metadata": {},
   "outputs": [],
   "source": [
    "plt.plot(x[200-2])"
   ]
  },
  {
   "cell_type": "code",
   "execution_count": 6,
   "metadata": {},
   "outputs": [],
   "source": [
    "for i in range(data_size):\n",
    "    temp = np.array(x[i]).reshape(-1,1)\n",
    "    tempt = np.array(t).reshape(-1,1)\n",
    "#     print(temp.shape,tempt.shape)\n",
    "    res = np.append(tempt,temp,axis=1)\n",
    "#     print(res.shape)\n",
    "    tempdf = pd.DataFrame(data=res,\n",
    "                index=[j for j in range(len(t)*i,len(t)*i+len(t))],\n",
    "                columns=['time','v'])\n",
    "    tempdf.insert(0, 'id',[i]*len(t))\n",
    "#     print(tempdf)\n",
    "    if(i==0):\n",
    "        X = tempdf\n",
    "    else:\n",
    "        X = X.append(tempdf)"
   ]
  },
  {
   "cell_type": "code",
   "execution_count": 7,
   "metadata": {},
   "outputs": [
    {
     "name": "stderr",
     "output_type": "stream",
     "text": [
      "Feature Extraction: 100%|██████████| 15/15 [29:50<00:00, 108.35s/it]\n"
     ]
    }
   ],
   "source": [
    "from tsfresh.feature_extraction import extract_features, EfficientFCParameters\n",
    "extracted_features = extract_features(X, column_id='id', column_sort='time', default_fc_parameters=EfficientFCParameters())"
   ]
  },
  {
   "cell_type": "code",
   "execution_count": 8,
   "metadata": {},
   "outputs": [],
   "source": [
    "extracted_features.to_csv(\"/home/cjc/Documents/2019Summer/Texadar/data/final1000.csv\")"
   ]
  },
  {
   "cell_type": "code",
   "execution_count": 9,
   "metadata": {},
   "outputs": [],
   "source": [
    "y =  np.array(y)"
   ]
  },
  {
   "cell_type": "code",
   "execution_count": 10,
   "metadata": {},
   "outputs": [
    {
     "name": "stderr",
     "output_type": "stream",
     "text": [
      "WARNING:tsfresh.feature_selection.relevance:Infered classification as machine learning task\n",
      "WARNING:tsfresh.feature_selection.relevance:[test_feature_significance] Feature v__change_quantiles__f_agg_\"mean\"__isabs_False__qh_0.2__ql_0.2 is constant\n",
      "WARNING:tsfresh.feature_selection.relevance:[test_feature_significance] Feature v__change_quantiles__f_agg_\"mean\"__isabs_False__qh_0.2__ql_0.4 is constant\n",
      "WARNING:tsfresh.feature_selection.relevance:[test_feature_significance] Feature v__change_quantiles__f_agg_\"var\"__isabs_False__qh_0.4__ql_0.4 is constant\n",
      "WARNING:tsfresh.feature_selection.relevance:[test_feature_significance] Feature v__change_quantiles__f_agg_\"mean\"__isabs_False__qh_0.2__ql_0.6 is constant\n",
      "WARNING:tsfresh.feature_selection.relevance:[test_feature_significance] Feature v__change_quantiles__f_agg_\"mean\"__isabs_False__qh_0.2__ql_0.8 is constant\n",
      "WARNING:tsfresh.feature_selection.relevance:[test_feature_significance] Feature v__change_quantiles__f_agg_\"var\"__isabs_False__qh_0.4__ql_0.6 is constant\n",
      "WARNING:tsfresh.feature_selection.relevance:[test_feature_significance] Feature v__change_quantiles__f_agg_\"var\"__isabs_False__qh_0.4__ql_0.8 is constant\n",
      "WARNING:tsfresh.feature_selection.relevance:[test_feature_significance] Feature v__change_quantiles__f_agg_\"mean\"__isabs_False__qh_0.4__ql_0.4 is constant\n",
      "WARNING:tsfresh.feature_selection.relevance:[test_feature_significance] Feature v__change_quantiles__f_agg_\"mean\"__isabs_False__qh_0.4__ql_0.6 is constant\n",
      "WARNING:tsfresh.feature_selection.relevance:[test_feature_significance] Feature v__change_quantiles__f_agg_\"mean\"__isabs_False__qh_0.4__ql_0.8 is constant\n",
      "WARNING:tsfresh.feature_selection.relevance:[test_feature_significance] Feature v__change_quantiles__f_agg_\"var\"__isabs_False__qh_0.6__ql_0.6 is constant\n",
      "WARNING:tsfresh.feature_selection.relevance:[test_feature_significance] Feature v__change_quantiles__f_agg_\"mean\"__isabs_False__qh_0.6__ql_0.6 is constant\n",
      "WARNING:tsfresh.feature_selection.relevance:[test_feature_significance] Feature v__change_quantiles__f_agg_\"mean\"__isabs_False__qh_0.6__ql_0.8 is constant\n",
      "WARNING:tsfresh.feature_selection.relevance:[test_feature_significance] Feature v__change_quantiles__f_agg_\"mean\"__isabs_False__qh_0.8__ql_0.8 is constant\n",
      "WARNING:tsfresh.feature_selection.relevance:[test_feature_significance] Feature v__change_quantiles__f_agg_\"var\"__isabs_False__qh_0.6__ql_0.8 is constant\n",
      "WARNING:tsfresh.feature_selection.relevance:[test_feature_significance] Feature v__change_quantiles__f_agg_\"var\"__isabs_False__qh_0.8__ql_0.8 is constant\n",
      "WARNING:tsfresh.feature_selection.relevance:[test_feature_significance] Feature v__change_quantiles__f_agg_\"mean\"__isabs_True__qh_0.2__ql_0.2 is constant\n",
      "WARNING:tsfresh.feature_selection.relevance:[test_feature_significance] Feature v__change_quantiles__f_agg_\"mean\"__isabs_True__qh_0.2__ql_0.4 is constant\n",
      "WARNING:tsfresh.feature_selection.relevance:[test_feature_significance] Feature v__change_quantiles__f_agg_\"var\"__isabs_True__qh_0.2__ql_0.2 is constant\n",
      "WARNING:tsfresh.feature_selection.relevance:[test_feature_significance] Feature v__fft_coefficient__coeff_0__attr_\"angle\" is constant\n",
      "WARNING:tsfresh.feature_selection.relevance:[test_feature_significance] Feature v__change_quantiles__f_agg_\"var\"__isabs_True__qh_0.2__ql_0.4 is constant\n",
      "WARNING:tsfresh.feature_selection.relevance:[test_feature_significance] Feature v__fft_coefficient__coeff_0__attr_\"imag\" is constant\n",
      "WARNING:tsfresh.feature_selection.relevance:[test_feature_significance] Feature v__change_quantiles__f_agg_\"var\"__isabs_True__qh_0.2__ql_0.6 is constant\n",
      "WARNING:tsfresh.feature_selection.relevance:[test_feature_significance] Feature v__change_quantiles__f_agg_\"mean\"__isabs_True__qh_0.2__ql_0.6 is constant\n",
      "WARNING:tsfresh.feature_selection.relevance:[test_feature_significance] Feature v__change_quantiles__f_agg_\"mean\"__isabs_True__qh_0.2__ql_0.8 is constant\n",
      "WARNING:tsfresh.feature_selection.relevance:[test_feature_significance] Feature v__change_quantiles__f_agg_\"var\"__isabs_True__qh_0.2__ql_0.8 is constant\n",
      "WARNING:tsfresh.feature_selection.relevance:[test_feature_significance] Feature v__change_quantiles__f_agg_\"mean\"__isabs_True__qh_0.4__ql_0.4 is constant\n",
      "WARNING:tsfresh.feature_selection.relevance:[test_feature_significance] Feature v__change_quantiles__f_agg_\"mean\"__isabs_True__qh_0.4__ql_0.8 is constant\n",
      "WARNING:tsfresh.feature_selection.relevance:[test_feature_significance] Feature v__change_quantiles__f_agg_\"mean\"__isabs_True__qh_0.4__ql_0.6 is constant\n",
      "WARNING:tsfresh.feature_selection.relevance:[test_feature_significance] Feature v__change_quantiles__f_agg_\"var\"__isabs_True__qh_0.4__ql_0.4 is constant\n",
      "WARNING:tsfresh.feature_selection.relevance:[test_feature_significance] Feature v__change_quantiles__f_agg_\"mean\"__isabs_True__qh_0.6__ql_0.6 is constant\n",
      "WARNING:tsfresh.feature_selection.relevance:[test_feature_significance] Feature v__change_quantiles__f_agg_\"mean\"__isabs_True__qh_0.6__ql_0.8 is constant\n",
      "WARNING:tsfresh.feature_selection.relevance:[test_feature_significance] Feature v__change_quantiles__f_agg_\"var\"__isabs_True__qh_0.4__ql_0.6 is constant\n",
      "WARNING:tsfresh.feature_selection.relevance:[test_feature_significance] Feature v__change_quantiles__f_agg_\"mean\"__isabs_True__qh_0.8__ql_0.8 is constant\n",
      "WARNING:tsfresh.feature_selection.relevance:[test_feature_significance] Feature v__change_quantiles__f_agg_\"var\"__isabs_True__qh_0.4__ql_0.8 is constant\n",
      "WARNING:tsfresh.feature_selection.relevance:[test_feature_significance] Feature v__change_quantiles__f_agg_\"var\"__isabs_True__qh_0.6__ql_0.6 is constant\n",
      "WARNING:tsfresh.feature_selection.relevance:[test_feature_significance] Feature v__change_quantiles__f_agg_\"var\"__isabs_True__qh_0.6__ql_0.8 is constant\n",
      "WARNING:tsfresh.feature_selection.relevance:[test_feature_significance] Feature v__change_quantiles__f_agg_\"var\"__isabs_False__qh_0.2__ql_0.2 is constant\n",
      "WARNING:tsfresh.feature_selection.relevance:[test_feature_significance] Feature v__change_quantiles__f_agg_\"var\"__isabs_True__qh_0.8__ql_0.8 is constant\n",
      "WARNING:tsfresh.feature_selection.relevance:[test_feature_significance] Feature v__change_quantiles__f_agg_\"var\"__isabs_False__qh_0.2__ql_0.4 is constant\n",
      "WARNING:tsfresh.feature_selection.relevance:[test_feature_significance] Feature v__change_quantiles__f_agg_\"var\"__isabs_False__qh_0.2__ql_0.6 is constant\n",
      "WARNING:tsfresh.feature_selection.relevance:[test_feature_significance] Feature v__change_quantiles__f_agg_\"var\"__isabs_False__qh_0.2__ql_0.8 is constant\n",
      "WARNING:tsfresh.feature_selection.relevance:[test_feature_significance] Feature v__large_standard_deviation__r_0.05 is constant\n",
      "WARNING:tsfresh.feature_selection.relevance:[test_feature_significance] Feature v__large_standard_deviation__r_0.45 is constant\n",
      "WARNING:tsfresh.feature_selection.relevance:[test_feature_significance] Feature v__large_standard_deviation__r_0.5 is constant\n",
      "WARNING:tsfresh.feature_selection.relevance:[test_feature_significance] Feature v__large_standard_deviation__r_0.55 is constant\n",
      "WARNING:tsfresh.feature_selection.relevance:[test_feature_significance] Feature v__large_standard_deviation__r_0.6000000000000001 is constant\n",
      "WARNING:tsfresh.feature_selection.relevance:[test_feature_significance] Feature v__has_duplicate is constant\n",
      "WARNING:tsfresh.feature_selection.relevance:[test_feature_significance] Feature v__range_count__max_0__min_1000000000000.0 is constant\n",
      "WARNING:tsfresh.feature_selection.relevance:[test_feature_significance] Feature v__range_count__max_1__min_-1 is constant\n",
      "WARNING:tsfresh.feature_selection.relevance:[test_feature_significance] Feature v__ratio_beyond_r_sigma__r_10 is constant\n",
      "WARNING:tsfresh.feature_selection.relevance:[test_feature_significance] Feature v__symmetry_looking__r_0.0 is constant\n",
      "WARNING:tsfresh.feature_selection.relevance:[test_feature_significance] Feature v__large_standard_deviation__r_0.65 is constant\n",
      "WARNING:tsfresh.feature_selection.relevance:[test_feature_significance] Feature v__large_standard_deviation__r_0.7000000000000001 is constant\n",
      "WARNING:tsfresh.feature_selection.relevance:[test_feature_significance] Feature v__large_standard_deviation__r_0.75 is constant\n",
      "WARNING:tsfresh.feature_selection.relevance:[test_feature_significance] Feature v__symmetry_looking__r_0.4 is constant\n"
     ]
    },
    {
     "name": "stderr",
     "output_type": "stream",
     "text": [
      "WARNING:tsfresh.feature_selection.relevance:[test_feature_significance] Feature v__symmetry_looking__r_0.45 is constant\n",
      "WARNING:tsfresh.feature_selection.relevance:[test_feature_significance] Feature v__symmetry_looking__r_0.5 is constant\n",
      "WARNING:tsfresh.feature_selection.relevance:[test_feature_significance] Feature v__symmetry_looking__r_0.55 is constant\n",
      "WARNING:tsfresh.feature_selection.relevance:[test_feature_significance] Feature v__symmetry_looking__r_0.6000000000000001 is constant\n",
      "WARNING:tsfresh.feature_selection.relevance:[test_feature_significance] Feature v__symmetry_looking__r_0.65 is constant\n",
      "WARNING:tsfresh.feature_selection.relevance:[test_feature_significance] Feature v__symmetry_looking__r_0.7000000000000001 is constant\n",
      "WARNING:tsfresh.feature_selection.relevance:[test_feature_significance] Feature v__large_standard_deviation__r_0.8 is constant\n",
      "WARNING:tsfresh.feature_selection.relevance:[test_feature_significance] Feature v__large_standard_deviation__r_0.8500000000000001 is constant\n",
      "WARNING:tsfresh.feature_selection.relevance:[test_feature_significance] Feature v__symmetry_looking__r_0.75 is constant\n",
      "WARNING:tsfresh.feature_selection.relevance:[test_feature_significance] Feature v__large_standard_deviation__r_0.9 is constant\n",
      "WARNING:tsfresh.feature_selection.relevance:[test_feature_significance] Feature v__symmetry_looking__r_0.8 is constant\n",
      "WARNING:tsfresh.feature_selection.relevance:[test_feature_significance] Feature v__symmetry_looking__r_0.8500000000000001 is constant\n",
      "WARNING:tsfresh.feature_selection.relevance:[test_feature_significance] Feature v__large_standard_deviation__r_0.9500000000000001 is constant\n",
      "WARNING:tsfresh.feature_selection.relevance:[test_feature_significance] Feature v__symmetry_looking__r_0.9 is constant\n",
      "WARNING:tsfresh.feature_selection.relevance:[test_feature_significance] Feature v__length is constant\n",
      "WARNING:tsfresh.feature_selection.relevance:[test_feature_significance] Feature v__symmetry_looking__r_0.9500000000000001 is constant\n",
      "WARNING:tsfresh.feature_selection.relevance:[test_feature_significance] Feature v__value_count__value_-1 is constant\n",
      "WARNING:tsfresh.feature_selection.relevance:[test_feature_significance] Feature v__value_count__value_0 is constant\n",
      "WARNING:tsfresh.feature_selection.relevance:[test_feature_significance] Feature v__value_count__value_1 is constant\n",
      "WARNING:tsfresh.feature_selection.relevance:[test_feature_significance] Feature v__partial_autocorrelation__lag_0 is constant\n",
      "WARNING:tsfresh.feature_selection.significance_tests:[target_binary_feature_binary_test] A binary feature should have only values 1 and 0 (incl. True and False). Instead found {0.0, 2.0} in feature ''v__number_crossing_m__m_-1''.\n",
      "WARNING:tsfresh.feature_selection.significance_tests:[target_binary_feature_binary_test] A binary feature should have only values 1 and 0 (incl. True and False). Instead found {0.0, 2.0} in feature ''v__number_crossing_m__m_0''.\n",
      "WARNING:tsfresh.feature_selection.significance_tests:[target_binary_feature_binary_test] A binary feature should have only values 1 and 0 (incl. True and False). Instead found {0.0, 2.0} in feature ''v__number_crossing_m__m_1''.\n",
      "WARNING:tsfresh.feature_selection.significance_tests:[target_binary_feature_binary_test] A binary feature should have only values 1 and 0 (incl. True and False). Instead found {1000.0, 997.0} in feature ''v__range_count__max_1000000000000.0__min_0''.\n",
      "WARNING:tsfresh.feature_selection.significance_tests:[target_binary_feature_binary_test] A binary feature should have only values 1 and 0 (incl. True and False). Instead found {0.0, 2.0} in feature ''v__number_crossing_m__m_-1''.\n",
      "WARNING:tsfresh.feature_selection.significance_tests:[target_binary_feature_binary_test] A binary feature should have only values 1 and 0 (incl. True and False). Instead found {0.0, 2.0} in feature ''v__number_crossing_m__m_0''.\n",
      "WARNING:tsfresh.feature_selection.significance_tests:[target_binary_feature_binary_test] A binary feature should have only values 1 and 0 (incl. True and False). Instead found {0.0, 2.0} in feature ''v__number_crossing_m__m_1''.\n",
      "WARNING:tsfresh.feature_selection.significance_tests:[target_binary_feature_binary_test] A binary feature should have only values 1 and 0 (incl. True and False). Instead found {1000.0, 997.0} in feature ''v__range_count__max_1000000000000.0__min_0''.\n",
      "WARNING:tsfresh.feature_selection.significance_tests:[target_binary_feature_binary_test] A binary feature should have only values 1 and 0 (incl. True and False). Instead found {0.0, 2.0} in feature ''v__number_crossing_m__m_-1''.\n",
      "WARNING:tsfresh.feature_selection.significance_tests:[target_binary_feature_binary_test] A binary feature should have only values 1 and 0 (incl. True and False). Instead found {0.0, 2.0} in feature ''v__number_crossing_m__m_0''.\n",
      "WARNING:tsfresh.feature_selection.significance_tests:[target_binary_feature_binary_test] A binary feature should have only values 1 and 0 (incl. True and False). Instead found {1000.0, 997.0} in feature ''v__range_count__max_1000000000000.0__min_0''.\n",
      "WARNING:tsfresh.feature_selection.significance_tests:[target_binary_feature_binary_test] A binary feature should have only values 1 and 0 (incl. True and False). Instead found {0.0, 2.0} in feature ''v__number_crossing_m__m_1''.\n",
      "WARNING:tsfresh.feature_selection.significance_tests:[target_binary_feature_binary_test] A binary feature should have only values 1 and 0 (incl. True and False). Instead found {0.0, 2.0} in feature ''v__number_crossing_m__m_-1''.\n",
      "WARNING:tsfresh.feature_selection.significance_tests:[target_binary_feature_binary_test] A binary feature should have only values 1 and 0 (incl. True and False). Instead found {0.0, 2.0} in feature ''v__number_crossing_m__m_0''.\n",
      "WARNING:tsfresh.feature_selection.significance_tests:[target_binary_feature_binary_test] A binary feature should have only values 1 and 0 (incl. True and False). Instead found {1000.0, 997.0} in feature ''v__range_count__max_1000000000000.0__min_0''.\n",
      "WARNING:tsfresh.feature_selection.significance_tests:[target_binary_feature_binary_test] A binary feature should have only values 1 and 0 (incl. True and False). Instead found {0.0, 2.0} in feature ''v__number_crossing_m__m_1''.\n",
      "WARNING:tsfresh.feature_selection.significance_tests:[target_binary_feature_binary_test] A binary feature should have only values 1 and 0 (incl. True and False). Instead found {0.0, 2.0} in feature ''v__number_crossing_m__m_-1''.\n",
      "WARNING:tsfresh.feature_selection.significance_tests:[target_binary_feature_binary_test] A binary feature should have only values 1 and 0 (incl. True and False). Instead found {0.0, 2.0} in feature ''v__number_crossing_m__m_0''.\n",
      "WARNING:tsfresh.feature_selection.significance_tests:[target_binary_feature_binary_test] A binary feature should have only values 1 and 0 (incl. True and False). Instead found {0.0, 2.0} in feature ''v__number_crossing_m__m_1''.\n",
      "WARNING:tsfresh.feature_selection.significance_tests:[target_binary_feature_binary_test] A binary feature should have only values 1 and 0 (incl. True and False). Instead found {1000.0, 997.0} in feature ''v__range_count__max_1000000000000.0__min_0''.\n",
      "WARNING:tsfresh.feature_selection.significance_tests:[target_binary_feature_binary_test] A binary feature should have only values 1 and 0 (incl. True and False). Instead found {0.0, 2.0} in feature ''v__number_crossing_m__m_-1''.\n",
      "WARNING:tsfresh.feature_selection.significance_tests:[target_binary_feature_binary_test] A binary feature should have only values 1 and 0 (incl. True and False). Instead found {0.0, 2.0} in feature ''v__number_crossing_m__m_0''.\n",
      "WARNING:tsfresh.feature_selection.significance_tests:[target_binary_feature_binary_test] A binary feature should have only values 1 and 0 (incl. True and False). Instead found {1000.0, 997.0} in feature ''v__range_count__max_1000000000000.0__min_0''.\n",
      "WARNING:tsfresh.feature_selection.significance_tests:[target_binary_feature_binary_test] A binary feature should have only values 1 and 0 (incl. True and False). Instead found {0.0, 2.0} in feature ''v__number_crossing_m__m_1''.\n",
      "WARNING:tsfresh.feature_selection.significance_tests:[target_binary_feature_binary_test] A binary feature should have only values 1 and 0 (incl. True and False). Instead found {0.0, 2.0} in feature ''v__number_crossing_m__m_-1''.\n"
     ]
    },
    {
     "name": "stderr",
     "output_type": "stream",
     "text": [
      "WARNING:tsfresh.feature_selection.significance_tests:[target_binary_feature_binary_test] A binary feature should have only values 1 and 0 (incl. True and False). Instead found {0.0, 2.0} in feature ''v__number_crossing_m__m_0''.\n",
      "WARNING:tsfresh.feature_selection.significance_tests:[target_binary_feature_binary_test] A binary feature should have only values 1 and 0 (incl. True and False). Instead found {0.0, 2.0} in feature ''v__number_crossing_m__m_1''.\n",
      "WARNING:tsfresh.feature_selection.significance_tests:[target_binary_feature_binary_test] A binary feature should have only values 1 and 0 (incl. True and False). Instead found {1000.0, 997.0} in feature ''v__range_count__max_1000000000000.0__min_0''.\n",
      "WARNING:tsfresh.feature_selection.significance_tests:[target_binary_feature_binary_test] A binary feature should have only values 1 and 0 (incl. True and False). Instead found {0.0, 2.0} in feature ''v__number_crossing_m__m_-1''.\n",
      "WARNING:tsfresh.feature_selection.significance_tests:[target_binary_feature_binary_test] A binary feature should have only values 1 and 0 (incl. True and False). Instead found {0.0, 2.0} in feature ''v__number_crossing_m__m_0''.\n",
      "WARNING:tsfresh.feature_selection.significance_tests:[target_binary_feature_binary_test] A binary feature should have only values 1 and 0 (incl. True and False). Instead found {0.0, 2.0} in feature ''v__number_crossing_m__m_1''.\n",
      "WARNING:tsfresh.feature_selection.significance_tests:[target_binary_feature_binary_test] A binary feature should have only values 1 and 0 (incl. True and False). Instead found {1000.0, 997.0} in feature ''v__range_count__max_1000000000000.0__min_0''.\n",
      "WARNING:tsfresh.feature_selection.significance_tests:[target_binary_feature_binary_test] A binary feature should have only values 1 and 0 (incl. True and False). Instead found {0.0, 2.0} in feature ''v__number_crossing_m__m_0''.\n",
      "WARNING:tsfresh.feature_selection.significance_tests:[target_binary_feature_binary_test] A binary feature should have only values 1 and 0 (incl. True and False). Instead found {0.0, 2.0} in feature ''v__number_crossing_m__m_-1''.\n",
      "WARNING:tsfresh.feature_selection.significance_tests:[target_binary_feature_binary_test] A binary feature should have only values 1 and 0 (incl. True and False). Instead found {0.0, 2.0} in feature ''v__number_crossing_m__m_1''.\n",
      "WARNING:tsfresh.feature_selection.significance_tests:[target_binary_feature_binary_test] A binary feature should have only values 1 and 0 (incl. True and False). Instead found {1000.0, 997.0} in feature ''v__range_count__max_1000000000000.0__min_0''.\n",
      "WARNING:tsfresh.feature_selection.significance_tests:[target_binary_feature_binary_test] A binary feature should have only values 1 and 0 (incl. True and False). Instead found {0.0, 2.0} in feature ''v__number_crossing_m__m_0''.\n",
      "WARNING:tsfresh.feature_selection.significance_tests:[target_binary_feature_binary_test] A binary feature should have only values 1 and 0 (incl. True and False). Instead found {0.0, 2.0} in feature ''v__number_crossing_m__m_1''.\n",
      "WARNING:tsfresh.feature_selection.significance_tests:[target_binary_feature_binary_test] A binary feature should have only values 1 and 0 (incl. True and False). Instead found {0.0, 2.0} in feature ''v__number_crossing_m__m_-1''.\n",
      "WARNING:tsfresh.feature_selection.significance_tests:[target_binary_feature_binary_test] A binary feature should have only values 1 and 0 (incl. True and False). Instead found {1000.0, 997.0} in feature ''v__range_count__max_1000000000000.0__min_0''.\n",
      "WARNING:tsfresh.feature_selection.significance_tests:[target_binary_feature_binary_test] A binary feature should have only values 1 and 0 (incl. True and False). Instead found {0.0, 2.0} in feature ''v__number_crossing_m__m_-1''.\n",
      "WARNING:tsfresh.feature_selection.significance_tests:[target_binary_feature_binary_test] A binary feature should have only values 1 and 0 (incl. True and False). Instead found {0.0, 2.0} in feature ''v__number_crossing_m__m_0''.\n",
      "WARNING:tsfresh.feature_selection.significance_tests:[target_binary_feature_binary_test] A binary feature should have only values 1 and 0 (incl. True and False). Instead found {0.0, 2.0} in feature ''v__number_crossing_m__m_1''.\n",
      "WARNING:tsfresh.feature_selection.significance_tests:[target_binary_feature_binary_test] A binary feature should have only values 1 and 0 (incl. True and False). Instead found {1000.0, 997.0} in feature ''v__range_count__max_1000000000000.0__min_0''.\n",
      "WARNING:tsfresh.feature_selection.significance_tests:[target_binary_feature_binary_test] A binary feature should have only values 1 and 0 (incl. True and False). Instead found {0.0, 2.0} in feature ''v__number_crossing_m__m_0''.\n",
      "WARNING:tsfresh.feature_selection.significance_tests:[target_binary_feature_binary_test] A binary feature should have only values 1 and 0 (incl. True and False). Instead found {1000.0, 997.0} in feature ''v__range_count__max_1000000000000.0__min_0''.\n",
      "WARNING:tsfresh.feature_selection.significance_tests:[target_binary_feature_binary_test] A binary feature should have only values 1 and 0 (incl. True and False). Instead found {0.0, 2.0} in feature ''v__number_crossing_m__m_-1''.\n",
      "WARNING:tsfresh.feature_selection.significance_tests:[target_binary_feature_binary_test] A binary feature should have only values 1 and 0 (incl. True and False). Instead found {0.0, 2.0} in feature ''v__number_crossing_m__m_1''.\n"
     ]
    }
   ],
   "source": [
    "from tsfresh import select_features\n",
    "from tsfresh.utilities.dataframe_functions import impute\n",
    "impute(extracted_features)\n",
    "features_filtered = select_features(extracted_features, y)"
   ]
  },
  {
   "cell_type": "code",
   "execution_count": 11,
   "metadata": {},
   "outputs": [],
   "source": [
    "features_filtered.to_csv(\"/home/cjc/Documents/2019Summer/Texadar/data/final_filtered1000.csv\")"
   ]
  },
  {
   "cell_type": "code",
   "execution_count": null,
   "metadata": {},
   "outputs": [],
   "source": [
    "print(features_filtered.shape)"
   ]
  },
  {
   "cell_type": "code",
   "execution_count": null,
   "metadata": {},
   "outputs": [],
   "source": [
    "features_filtered.head()"
   ]
  },
  {
   "cell_type": "code",
   "execution_count": null,
   "metadata": {
    "scrolled": true
   },
   "outputs": [],
   "source": [
    "list(features_filtered.columns)"
   ]
  },
  {
   "cell_type": "code",
   "execution_count": null,
   "metadata": {},
   "outputs": [],
   "source": []
  }
 ],
 "metadata": {
  "kernelspec": {
   "display_name": "Python 3",
   "language": "python",
   "name": "python3"
  },
  "language_info": {
   "codemirror_mode": {
    "name": "ipython",
    "version": 3
   },
   "file_extension": ".py",
   "mimetype": "text/x-python",
   "name": "python",
   "nbconvert_exporter": "python",
   "pygments_lexer": "ipython3",
   "version": "3.7.3"
  }
 },
 "nbformat": 4,
 "nbformat_minor": 2
}
