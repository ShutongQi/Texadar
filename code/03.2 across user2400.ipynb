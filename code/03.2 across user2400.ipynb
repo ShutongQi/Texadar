{
 "cells": [
  {
   "cell_type": "code",
   "execution_count": null,
   "metadata": {},
   "outputs": [],
   "source": []
  },
  {
   "cell_type": "code",
   "execution_count": 20,
   "metadata": {},
   "outputs": [],
   "source": [
    "#-----01 within user----------\n",
    "import numpy as np\n",
    "import pandas as pd\n",
    "import matplotlib.pyplot as plt\n",
    "import matplotlib.animation as animation\n",
    "import sys,os\n",
    "from seglearn.transform import SegmentX\n",
    "from seglearn.feature_functions import maximum,minimum\n",
    "from sklearn.preprocessing import normalize,MinMaxScaler\n",
    "from sklearn.model_selection import train_test_split\n",
    "from sklearn.ensemble import RandomForestClassifier\n",
    "from sklearn.decomposition import PCA\n",
    "from sklearn import svm\n",
    "from sklearn.metrics import confusion_matrix\n",
    "from sklearn.utils.multiclass import unique_labels\n",
    "from sklearn.model_selection import StratifiedKFold\n",
    "import time\n"
   ]
  },
  {
   "cell_type": "code",
   "execution_count": 21,
   "metadata": {},
   "outputs": [
    {
     "name": "stdout",
     "output_type": "stream",
     "text": [
      "270\n",
      "(2700, 463)\n"
     ]
    }
   ],
   "source": [
    "# --------starts here-------\n",
    "skip_list = [0,1,3,6,8]\n",
    "#label\n",
    "y=[]\n",
    "# for k in range(10):#num of participants\n",
    "\n",
    "for i in range(14):\n",
    "    if i in skip_list:\n",
    "        continue\n",
    "    for j in range(30):\n",
    "        y.append(i)\n",
    "\n",
    "y_train = y*9\n",
    "y_test = y[:]\n",
    "print(len(y))\n",
    "skip_len = len(y)\n",
    "tsfresh_feature = pd.read_csv(\"../data/final_filtered2400.csv\")\n",
    "tsfresh_feature = tsfresh_feature.drop([\"id\"],axis=1)\n",
    "selected_list = []\n",
    "for i in range(10):\n",
    "    for j in range(14):\n",
    "        if(j in skip_list):continue\n",
    "        for k in range(30):\n",
    "            selected_list.append(i*420+j*30+k)\n",
    "tsfresh_feature = tsfresh_feature.iloc[selected_list]\n",
    "print(tsfresh_feature.shape)"
   ]
  },
  {
   "cell_type": "code",
   "execution_count": null,
   "metadata": {
    "scrolled": true
   },
   "outputs": [],
   "source": [
    "# tsfresh_feature"
   ]
  },
  {
   "cell_type": "code",
   "execution_count": null,
   "metadata": {},
   "outputs": [],
   "source": [
    "\n",
    "# import pickle\n",
    "\n",
    "# # define a list of places\n",
    "# cjc_feature_list = list(tsfresh_feature.columns)\n",
    "\n",
    "# with open('cjc_feature_list.data', 'wb') as filehandle:\n",
    "#     # store the data as binary data stream\n",
    "#     pickle.dump(cjc_feature_list, filehandle)"
   ]
  },
  {
   "cell_type": "code",
   "execution_count": 22,
   "metadata": {},
   "outputs": [
    {
     "name": "stdout",
     "output_type": "stream",
     "text": [
      "(4200, 100)\n",
      "(2700, 100)\n"
     ]
    },
    {
     "data": {
      "text/plain": [
       "(2700, 563)"
      ]
     },
     "execution_count": 22,
     "metadata": {},
     "output_type": "execute_result"
    }
   ],
   "source": [
    "#------ adding features from Shutong ------#\n",
    "# fftfeatures1 = np.loadtxt(fname = \"data/22gesture.txt\",delimiter=',')\n",
    "# fftfeatures = np.loadtxt(fname = \"data/qstSpectro.txt\",delimiter=',')\n",
    "# fftfeatures = np.concatenate((fftfeatures1,fftfeatures2),axis=0)\n",
    "fftfeatures = np.loadtxt(fname = \"../data/fftFeature2400.txt\",delimiter=',')\n",
    "print(fftfeatures.shape)\n",
    "_len = len(fftfeatures[:][0])\n",
    "fft_df = pd.DataFrame(data=fftfeatures[:],    # values\n",
    "              index=[i for i in range(4200)],    # 1st column as index\n",
    "              columns=[\"f\"+str(i) for i in range(_len)])\n",
    "\n",
    "fft_df = fft_df.iloc[selected_list]\n",
    "print(fft_df.shape)\n",
    "features_combine = fft_df.join(tsfresh_feature)\n",
    "features_combine.shape"
   ]
  },
  {
   "cell_type": "code",
   "execution_count": 10,
   "metadata": {},
   "outputs": [
    {
     "data": {
      "text/html": [
       "<div>\n",
       "<style scoped>\n",
       "    .dataframe tbody tr th:only-of-type {\n",
       "        vertical-align: middle;\n",
       "    }\n",
       "\n",
       "    .dataframe tbody tr th {\n",
       "        vertical-align: top;\n",
       "    }\n",
       "\n",
       "    .dataframe thead th {\n",
       "        text-align: right;\n",
       "    }\n",
       "</style>\n",
       "<table border=\"1\" class=\"dataframe\">\n",
       "  <thead>\n",
       "    <tr style=\"text-align: right;\">\n",
       "      <th></th>\n",
       "      <th>f0</th>\n",
       "      <th>f1</th>\n",
       "      <th>f2</th>\n",
       "      <th>f3</th>\n",
       "      <th>f4</th>\n",
       "      <th>f5</th>\n",
       "      <th>f6</th>\n",
       "      <th>f7</th>\n",
       "      <th>f8</th>\n",
       "      <th>f9</th>\n",
       "      <th>...</th>\n",
       "      <th>v__fft_coefficient__coeff_92__attr_\"imag\"</th>\n",
       "      <th>v__sum_of_reoccurring_data_points</th>\n",
       "      <th>v__fft_coefficient__coeff_91__attr_\"imag\"</th>\n",
       "      <th>v__fft_coefficient__coeff_10__attr_\"angle\"</th>\n",
       "      <th>v__fft_coefficient__coeff_8__attr_\"imag\"</th>\n",
       "      <th>v__ratio_beyond_r_sigma__r_1.5</th>\n",
       "      <th>v__fft_coefficient__coeff_76__attr_\"imag\"</th>\n",
       "      <th>v__partial_autocorrelation__lag_8</th>\n",
       "      <th>v__ratio_beyond_r_sigma__r_1</th>\n",
       "      <th>v__fft_coefficient__coeff_9__attr_\"angle\"</th>\n",
       "    </tr>\n",
       "  </thead>\n",
       "  <tbody>\n",
       "  </tbody>\n",
       "</table>\n",
       "<p>0 rows × 586 columns</p>\n",
       "</div>"
      ],
      "text/plain": [
       "Empty DataFrame\n",
       "Columns: [f0, f1, f2, f3, f4, f5, f6, f7, f8, f9, f10, f11, f12, f13, f14, f15, f16, f17, f18, f19, f20, f21, f22, f23, f24, f25, f26, f27, f28, f29, f30, f31, f32, f33, f34, f35, f36, f37, f38, f39, f40, f41, f42, f43, f44, f45, f46, f47, f48, f49, f50, f51, f52, f53, f54, f55, f56, f57, f58, f59, f60, f61, f62, f63, f64, f65, f66, f67, f68, f69, f70, f71, f72, f73, f74, f75, f76, f77, f78, f79, f80, f81, f82, f83, f84, f85, f86, f87, f88, f89, f90, f91, f92, f93, f94, f95, f96, f97, f98, f99, ...]\n",
       "Index: []\n",
       "\n",
       "[0 rows x 586 columns]"
      ]
     },
     "execution_count": 10,
     "metadata": {},
     "output_type": "execute_result"
    }
   ],
   "source": [
    "features_combine[0:0]"
   ]
  },
  {
   "cell_type": "code",
   "execution_count": 24,
   "metadata": {
    "scrolled": true
   },
   "outputs": [
    {
     "name": "stdout",
     "output_type": "stream",
     "text": [
      "38.04583215713501\n",
      "37.24566149711609\n",
      "33.09847116470337\n",
      "31.99525022506714\n",
      "39.56912660598755\n",
      "3045.931287050247\n",
      "32.38419270515442\n",
      "32.65915775299072\n",
      "31.517261028289795\n",
      "7098.407863140106\n",
      "[1.0, 1.0, 1.0, 1.0, 1.0, 1.0, 1.0, 1.0, 1.0, 1.0]\n",
      "[0.8814814814814815, 0.8962962962962963, 0.825925925925926, 0.7074074074074074, 0.8777777777777778, 0.762962962962963, 0.7962962962962963, 0.9259259259259259, 0.6925925925925925, 0.8037037037037037]\n"
     ]
    }
   ],
   "source": [
    "maxyhat_train=[0,0,0,0,0,0,0,0,0,0]\n",
    "maxyhat_test=[0,0,0,0,0,0,0,0,0,0]\n",
    "temp = 0\n",
    "feature_list = []\n",
    "train_results = [[],[],[],[],[],[],[],[],[],[]]\n",
    "test_results = [[],[],[],[],[],[],[],[],[],[]]\n",
    "# for i in range(10,20):\n",
    "seconds = time.time()\n",
    "for people in range(10):\n",
    "    x_test = features_combine[people*skip_len:(people+1)*skip_len]\n",
    "    x_train = features_combine[0*skip_len:people*skip_len]\n",
    "    x_train = pd.concat([x_train,features_combine[(people+1)*skip_len:10*skip_len]])\n",
    "    for j in range(0,10):\n",
    "#         x_train, x_test, y_train, y_test = train_test_split(X, y, random_state=i, train_size=0.9, test_size=0.1)\n",
    "        clf = RandomForestClassifier(n_estimators=100, max_depth=30, random_state=j)\n",
    "        clf.fit(x_train, y_train)\n",
    "        temp = clf.score(x_train, y_train)\n",
    "        train_results[people].append(temp)\n",
    "        if (temp > maxyhat_train[people]).any():\n",
    "            maxyhat_train[people] = temp\n",
    "        temp = clf.score(x_test, y_test)\n",
    "        test_results[people].append(temp)\n",
    "        feature_importances = pd.DataFrame(clf.feature_importances_,\n",
    "                               index = x_train.columns,\n",
    "                                columns=['importance']).sort_values('importance',ascending=False).sort_values('importance',ascending=False)\n",
    "        if (maxyhat_test[people] < temp).any():\n",
    "            maxyhat_test[people] = temp\n",
    "            for feature in feature_importances.index.tolist()[:50]:\n",
    "                if not feature in feature_list:\n",
    "                    feature_list.append(feature)\n",
    "    seconds = time.time()-seconds\n",
    "    print(seconds)\n",
    "    seconds = time.time()\n",
    "print(maxyhat_train)\n",
    "print(maxyhat_test)"
   ]
  },
  {
   "cell_type": "code",
   "execution_count": 15,
   "metadata": {},
   "outputs": [
    {
     "name": "stdout",
     "output_type": "stream",
     "text": [
      "[0.8814814814814815, 0.7592592592592593, 0.8222222222222222, 0.762962962962963, 0.8925925925925926, 0.8222222222222222, 0.6259259259259259, 0.8740740740740741, 0.6407407407407407, 0.8111111111111111]\n",
      "0.7892592592592592\n",
      "0.08908081132602048\n"
     ]
    }
   ],
   "source": [
    "mylist = []\n",
    "for i in range(10):\n",
    "    mylist.append(np.max(test_results[i]))\n",
    "print(mylist)\n",
    "print(np.mean(mylist))\n",
    "print(np.std(mylist))\n"
   ]
  },
  {
   "cell_type": "code",
   "execution_count": null,
   "metadata": {},
   "outputs": [],
   "source": [
    "feature_list\n",
    "# import pickle\n",
    "\n",
    "\n",
    "# with open('feature_list.data', 'wb') as filehandle:\n",
    "#     # store the data as binary data stream\n",
    "#     pickle.dump(feature_list, filehandle)"
   ]
  },
  {
   "cell_type": "code",
   "execution_count": null,
   "metadata": {},
   "outputs": [],
   "source": [
    "# y = y\n",
    "# maxyhat_train=[0,0,0,0,0,0,0,0,0,0]\n",
    "# maxyhat_test=[0,0,0,0,0,0,0,0,0,0]\n",
    "# temp = 0\n",
    "# train_results = [[],[],[],[],[],[],[],[],[],[]]\n",
    "# test_results = [[],[],[],[],[],[],[],[],[],[]]\n",
    "# # for i in range(10,20):\n",
    "# seconds = time.time()\n",
    "# for people in range(10):\n",
    "#     #get each user\n",
    "#     X = features_combine[people*420:(people+1)*420]\n",
    "#     for i in range(10,20):\n",
    "#         for j in range(10,20):\n",
    "#             x_train, x_test, y_train, y_test = train_test_split(X[feature_list], y, random_state=i, train_size=0.5, test_size=0.5)\n",
    "            \n",
    "#             clf = RandomForestClassifier(n_estimators=100, max_depth=30, random_state=j)\n",
    "#             clf.fit(x_train, y_train)\n",
    "#             temp = clf.score(x_train, y_train)\n",
    "#             train_results[people].append(temp)\n",
    "#             if (temp > maxyhat_train[people]).any():\n",
    "#                 maxyhat_train[people] = temp\n",
    "#             temp = clf.score(x_test, y_test)\n",
    "#             test_results[people].append(temp)\n",
    "#             feature_importances = pd.DataFrame(clf.feature_importances_,\n",
    "#                                    index = x_train.columns,\n",
    "#                                     columns=['importance']).sort_values('importance',ascending=False).sort_values('importance',ascending=False)\n",
    "#             if (maxyhat_test[people] < temp).any():\n",
    "#                 maxyhat_test[people] = temp\n",
    "              \n",
    "#     seconds = time.time()-seconds\n",
    "#     print(seconds)\n",
    "#     seconds = time.time()\n",
    "# print(maxyhat_train)\n",
    "# print(maxyhat_test)"
   ]
  },
  {
   "cell_type": "code",
   "execution_count": null,
   "metadata": {},
   "outputs": [],
   "source": [
    "# mylist = []\n",
    "# for i in range(10):\n",
    "#     mylist.append(np.max(test_results[i]))\n",
    "# print(mylist)\n",
    "# np.mean(mylist)\n"
   ]
  },
  {
   "cell_type": "code",
   "execution_count": null,
   "metadata": {},
   "outputs": [],
   "source": [
    "# from matplotlib.legend_handler import HandlerLine2D\n",
    "# line1, = plt.plot(np.arange(100), train_results,'b', label='Train AUC')\n",
    "# line2, = plt.plot(np.arange(100), test_results,'r', label='Test AUC')\n",
    "# plt.legend(handler_map={line1: HandlerLine2D(numpoints=2)})\n",
    "# plt.ylabel('AUC score')\n",
    "# plt.xlabel('n_estimators')\n",
    "# plt.show()"
   ]
  },
  {
   "cell_type": "code",
   "execution_count": 18,
   "metadata": {},
   "outputs": [
    {
     "name": "stdout",
     "output_type": "stream",
     "text": [
      "3\n",
      "3\n",
      "7\n",
      "9\n",
      "9\n",
      "3\n",
      "5\n",
      "5\n",
      "7\n",
      "4\n"
     ]
    }
   ],
   "source": [
    "\n",
    "y_max=[]\n",
    "for i in range(10):\n",
    "    y_max.append(10+np.argmax(test_results[i]))\n",
    "    print(np.argmax(test_results[i]))"
   ]
  },
  {
   "cell_type": "code",
   "execution_count": 19,
   "metadata": {},
   "outputs": [
    {
     "data": {
      "text/plain": [
       "[13, 13, 17, 19, 19, 13, 15, 15, 17, 14]"
      ]
     },
     "execution_count": 19,
     "metadata": {},
     "output_type": "execute_result"
    }
   ],
   "source": [
    "y_max"
   ]
  },
  {
   "cell_type": "code",
   "execution_count": null,
   "metadata": {},
   "outputs": [],
   "source": [
    "print(np.argmax(test_results))\n",
    "#删4个56"
   ]
  },
  {
   "cell_type": "code",
   "execution_count": null,
   "metadata": {
    "scrolled": false
   },
   "outputs": [],
   "source": [
    "#------ using ranked features ----------#\n",
    "bestmodel = 0\n",
    "maxyhat_test=0\n",
    "\n",
    "\n",
    "\n",
    "fig = None\n",
    "def plot_confusion_matrix(y_true, y_pred, classes,\n",
    "                          normalize=False,\n",
    "                          title=None,\n",
    "                          cmap=plt.cm.Blues):\n",
    "    global fig\n",
    "    \"\"\"\n",
    "    This function prints and plots the confusion matrix.\n",
    "    Normalization can be applied by setting `normalize=True`.\n",
    "    \"\"\"\n",
    "    if not title:\n",
    "        if normalize:\n",
    "            title = 'Normalized confusion matrix'\n",
    "        else:\n",
    "            title = 'Confusion matrix, without normalization'\n",
    "\n",
    "    # Compute confusion matrix\n",
    "    cm = confusion_matrix(y_true, y_pred)\n",
    "    # Only use the labels that appear in the data\n",
    "    classes = classes[unique_labels(y_true, y_pred)]\n",
    "    if normalize:\n",
    "        cm = cm.astype('float') / cm.sum(axis=1)[:, np.newaxis]*100\n",
    "        print(\"Normalized confusion matrix\")\n",
    "    else:\n",
    "        print('Confusion matrix, without normalization')\n",
    "\n",
    "#     print(cm)\n",
    "    plt.rcParams.update({'font.size': 18})\n",
    "    plt.rc('ytick', labelsize=20)\n",
    "    plt.rc('xtick', labelsize=20)\n",
    "    plt.rc('axes', labelsize=26)\n",
    "\n",
    "    fig, ax = plt.subplots(figsize=(15,15))\n",
    "    \n",
    "    im = ax.imshow(cm, interpolation='nearest', cmap=cmap)\n",
    "    ax.figure.colorbar(im, ax=ax)\n",
    "    # We want to show all ticks...\n",
    "    ax.set(xticks=np.arange(cm.shape[1]),\n",
    "           yticks=np.arange(cm.shape[0]),\n",
    "           # ... and label them with the respective list entries\n",
    "           xticklabels=classes, yticklabels=classes,\n",
    "           title=title,\n",
    "           ylabel='True label',\n",
    "           xlabel='Predicted label')\n",
    "\n",
    "    # Rotate the tick labels and set their alignment.\n",
    "    plt.setp(ax.get_xticklabels(), rotation=45, ha=\"right\",\n",
    "             rotation_mode=\"anchor\")\n",
    "\n",
    "    # Loop over data dimensions and create text annotations.\n",
    "    fmt = '.1f' if normalize else 'd'\n",
    "    thresh = cm.max() / 2.\n",
    "    for i in range(cm.shape[0]):\n",
    "        for j in range(cm.shape[1]):\n",
    "            ax.text(j, i, format(cm[i, j], fmt),\n",
    "                    ha=\"center\", va=\"center\",\n",
    "                    color=\"white\" if cm[i, j] > thresh else \"black\")\n",
    "    fig.tight_layout()\n",
    "    return ax\n",
    "\n",
    "v2_names=['button','check','hand_circle','double_tap','swipe','finger_rub',\n",
    "         'finger_slide','hold','slow_swipe','pull','push','rect','finger_circle',\n",
    "         'single_tap']\n",
    "v2_names_sort = ['button','finger_rub','finger_slide','','finger_circle','check','rectangle','pull','','push','hold','swipe','hand_circle','tap']\n",
    "projection = [0,5,12,3,11,1,2,10,8,7,9,6,4,13]\n",
    "v2_names_sort = np.array(v2_names_sort)\n",
    "v2_names = np.array(v2_names)\n",
    "\n",
    "y_pred = []\n",
    "#get each user\n",
    "i=14\n",
    "j=y_max[people]\n",
    "\n",
    "for people in range(10):\n",
    "    x_test = features_combine[people*skip_len:(people+1)*skip_len]\n",
    "    x_train = features_combine[0*skip_len:people*skip_len]\n",
    "    x_train = pd.concat([x_train,features_combine[(people+1)*skip_len:10*skip_len]])\n",
    "    for j in range(0,100):\n",
    "#         x_train, x_test, y_train, y_test = train_test_split(X, y, random_state=i, train_size=0.9, test_size=0.1)\n",
    "        clf = RandomForestClassifier(n_estimators=100, max_depth=30, random_state=j)\n",
    "        clf.fit(x_train, y_train)\n",
    "        temp = clf.score(x_train, y_train)\n",
    "        train_results[people].append(temp)\n",
    "        if (temp > maxyhat_train[people]).any():\n",
    "            maxyhat_train[people] = temp\n",
    "        temp = clf.score(x_test, y_test)\n",
    "        test_results[people].append(temp)\n",
    "\n",
    "\n",
    "X=features_combine\n",
    "x_train, x_test, y_train, y_test = train_test_split(X, y, random_state=i, train_size=0.9, test_size=0.1)\n",
    "\n",
    "clf = RandomForestClassifier(n_estimators=100, max_depth=30, random_state=j)\n",
    "clf.fit(x_train, y_train)\n",
    "print(clf.score(x_test,y_test))\n",
    "feature_importances = pd.DataFrame(clf.feature_importances_,\n",
    "                               index = x_train.columns,\n",
    "                                columns=['importance']).sort_values('importance',ascending=False).sort_values('importance',ascending=False)\n",
    "print(feature_importances.index.tolist()[:50])\n",
    "y_pred = list(clf.predict(x_test))\n",
    "#     print(list(clf.predict(x_test)))\n",
    "print(y_test)   \n",
    "print(y_pred)\n",
    "y_test_new = []\n",
    "y_pred_new = []\n",
    "for i in range(len(y_test)):\n",
    "    y_test_new.append(projection[y_test[i]])\n",
    "    y_pred_new.append(projection[y_pred[i]])\n",
    "print(y_test_new)   \n",
    "print(y_pred_new)\n",
    "plot_confusion_matrix(y_test_new, y_pred_new, classes=v2_names_sort, normalize=True,\n",
    "          title='')\n",
    "plt.show()\n",
    "\n",
    "seconds = time.time()-seconds\n",
    "#     print(seconds)\n",
    "seconds = time.time()\n",
    "print(maxyhat_train)\n",
    "print(maxyhat_test)\n",
    "fig.savefig(\"2400_cross.pdf\", bbox_inches = \"tight\")"
   ]
  },
  {
   "cell_type": "code",
   "execution_count": null,
   "metadata": {},
   "outputs": [],
   "source": [
    "from joblib import dump, load\n",
    "dump(clf, '4200.joblib')"
   ]
  },
  {
   "cell_type": "code",
   "execution_count": null,
   "metadata": {},
   "outputs": [],
   "source": [
    "clf2 = load('filename.joblib')"
   ]
  }
 ],
 "metadata": {
  "file_extension": ".py",
  "kernelspec": {
   "display_name": "Python 3",
   "language": "python",
   "name": "python3"
  },
  "language_info": {
   "codemirror_mode": {
    "name": "ipython",
    "version": 3
   },
   "file_extension": ".py",
   "mimetype": "text/x-python",
   "name": "python",
   "nbconvert_exporter": "python",
   "pygments_lexer": "ipython3",
   "version": "3.7.3"
  },
  "mimetype": "text/x-python",
  "name": "python",
  "npconvert_exporter": "python",
  "pygments_lexer": "ipython3",
  "version": 3
 },
 "nbformat": 4,
 "nbformat_minor": 2
}
